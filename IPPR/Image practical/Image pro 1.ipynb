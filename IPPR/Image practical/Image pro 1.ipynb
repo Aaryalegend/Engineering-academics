{
 "cells": [
  {
   "cell_type": "code",
   "execution_count": null,
   "id": "d91f9d53-4664-4dff-8b95-482f7470eac6",
   "metadata": {},
   "outputs": [],
   "source": []
  },
  {
   "cell_type": "code",
   "execution_count": 3,
   "id": "74904add-35bf-4618-966f-c89631bddfc1",
   "metadata": {},
   "outputs": [
    {
     "name": "stdout",
     "output_type": "stream",
     "text": [
      "Requirement already satisfied: opencv-python in c:\\users\\it\\anaconda3\\lib\\site-packages (4.10.0.84)\n",
      "Requirement already satisfied: numpy>=1.21.2 in c:\\users\\it\\anaconda3\\lib\\site-packages (from opencv-python) (1.26.4)\n",
      "Note: you may need to restart the kernel to use updated packages.\n"
     ]
    }
   ],
   "source": [
    "pip install opencv-python"
   ]
  },
  {
   "cell_type": "code",
   "execution_count": 5,
   "id": "84ddd242-c338-4433-bcc2-c3ef46979a76",
   "metadata": {},
   "outputs": [
    {
     "ename": "AttributeError",
     "evalue": "module 'cv2' has no attribute 'addweighted'",
     "output_type": "error",
     "traceback": [
      "\u001b[1;31m---------------------------------------------------------------------------\u001b[0m",
      "\u001b[1;31mAttributeError\u001b[0m                            Traceback (most recent call last)",
      "Cell \u001b[1;32mIn[5], line 15\u001b[0m\n\u001b[0;32m      6\u001b[0m second_img \u001b[38;5;241m=\u001b[39m cv2\u001b[38;5;241m.\u001b[39mimread(\u001b[38;5;124m'\u001b[39m\u001b[38;5;124mD://SJC//Image Processing//images//image2.jpg\u001b[39m\u001b[38;5;124m'\u001b[39m) \n\u001b[0;32m      8\u001b[0m \u001b[38;5;66;03m#print(first_img) \u001b[39;00m\n\u001b[0;32m      9\u001b[0m \u001b[38;5;66;03m#print(second_img)\u001b[39;00m\n\u001b[0;32m     10\u001b[0m \u001b[38;5;66;03m#cv2.imshow('first_img',first_img)\u001b[39;00m\n\u001b[0;32m     11\u001b[0m \u001b[38;5;66;03m#cv2.waitKey(2)\u001b[39;00m\n\u001b[0;32m     12\u001b[0m \u001b[38;5;66;03m#cv2.imshow('second_img',first_img)\u001b[39;00m\n\u001b[0;32m     13\u001b[0m \u001b[38;5;66;03m#cv2.waitKey(2)\u001b[39;00m\n\u001b[1;32m---> 15\u001b[0m weightedSum \u001b[38;5;241m=\u001b[39m cv2\u001b[38;5;241m.\u001b[39maddweighted(first_img, \u001b[38;5;241m0.5\u001b[39m, second_img, \u001b[38;5;241m0.4\u001b[39m, \u001b[38;5;241m0\u001b[39m)\n\u001b[0;32m     16\u001b[0m cv2\u001b[38;5;241m.\u001b[39mimshow(\u001b[38;5;124m'\u001b[39m\u001b[38;5;124mWeighted Image\u001b[39m\u001b[38;5;124m'\u001b[39m, weightedSum) \n\u001b[0;32m     18\u001b[0m \u001b[38;5;66;03m# De-allocate any associated memory usage   \u001b[39;00m\n\u001b[0;32m     19\u001b[0m \u001b[38;5;66;03m#if cv2.waitKey(0) & 0xff == 27:  \u001b[39;00m\n\u001b[0;32m     20\u001b[0m \u001b[38;5;66;03m#    cv2.destroyAllWindows()\u001b[39;00m\n",
      "\u001b[1;31mAttributeError\u001b[0m: module 'cv2' has no attribute 'addweighted'"
     ]
    }
   ],
   "source": [
    "import  cv2 \n",
    "\n",
    "# matplotlib can be used to plot the images as subplot \n",
    "  \n",
    "first_img = cv2.imread('D://SJC//Image Processing//images//image1.jpg') \n",
    "second_img = cv2.imread('D://SJC//Image Processing//images//image2.jpg') \n",
    "  \n",
    "#print(first_img) \n",
    "#print(second_img)\n",
    "#cv2.imshow('first_img',first_img)\n",
    "#cv2.waitKey(2)\n",
    "#cv2.imshow('second_img',first_img)\n",
    "#cv2.waitKey(2)\n",
    "\n",
    "weightedSum = cv2.addweighted(first_img, 0.5, second_img, 0.4, 0)\n",
    "cv2.imshow('Weighted Image', weightedSum) \n",
    "  \n",
    "# De-allocate any associated memory usage   \n",
    "#if cv2.waitKey(0) & 0xff == 27:  \n",
    "#    cv2.destroyAllWindows()\n",
    "cv2.imshow('first_img',first_img)\n",
    "cv2.imshow('second_img',second_img)\n",
    "cv2.waitKey(0)\n",
    "cv2.destroyAllWindows()"
   ]
  },
  {
   "cell_type": "code",
   "execution_count": 11,
   "id": "2ea9ca22-8f3f-483f-b437-686b5a53d0c1",
   "metadata": {},
   "outputs": [
    {
     "data": {
      "text/plain": [
       "-1"
      ]
     },
     "execution_count": 11,
     "metadata": {},
     "output_type": "execute_result"
    }
   ],
   "source": [
    "cv2.imshow(\"first_img\", first_img) \n",
    "cv2.waitKey(0)"
   ]
  },
  {
   "cell_type": "code",
   "execution_count": 2,
   "id": "64ebcf57-d240-4e57-8fc8-4c3dcb2b023e",
   "metadata": {},
   "outputs": [
    {
     "data": {
      "text/plain": [
       "-1"
      ]
     },
     "execution_count": 2,
     "metadata": {},
     "output_type": "execute_result"
    }
   ],
   "source": []
  },
  {
   "cell_type": "code",
   "execution_count": 1,
   "id": "1cbc8024-aeae-4464-ad6a-4c97057c0393",
   "metadata": {},
   "outputs": [
    {
     "ename": "error",
     "evalue": "OpenCV(4.10.0) D:\\a\\opencv-python\\opencv-python\\opencv\\modules\\core\\src\\arithm.cpp:661: error: (-209:Sizes of input arguments do not match) The operation is neither 'array op array' (where arrays have the same size and the same number of channels), nor 'array op scalar', nor 'scalar op array' in function 'cv::arithm_op'\n",
     "output_type": "error",
     "traceback": [
      "\u001b[1;31m---------------------------------------------------------------------------\u001b[0m",
      "\u001b[1;31merror\u001b[0m                                     Traceback (most recent call last)",
      "Cell \u001b[1;32mIn[1], line 6\u001b[0m\n\u001b[0;32m      2\u001b[0m first_img \u001b[38;5;241m=\u001b[39m cv2\u001b[38;5;241m.\u001b[39mimread(\u001b[38;5;124m\"\u001b[39m\u001b[38;5;124mD://SJC//Image Processing//images//iamge1.jpg\u001b[39m\u001b[38;5;124m\"\u001b[39m) \n\u001b[0;32m      3\u001b[0m second_img \u001b[38;5;241m=\u001b[39m cv2\u001b[38;5;241m.\u001b[39mimread(\u001b[38;5;124m\"\u001b[39m\u001b[38;5;124mD://SJC//Image Processing//images//image2.jpg\u001b[39m\u001b[38;5;124m\"\u001b[39m) \n\u001b[1;32m----> 6\u001b[0m weightedSum\u001b[38;5;241m=\u001b[39mcv2\u001b[38;5;241m.\u001b[39madd(first_img , second_img)\n\u001b[0;32m      7\u001b[0m cv2\u001b[38;5;241m.\u001b[39mimshow(\u001b[38;5;124m'\u001b[39m\u001b[38;5;124mWeighted Image\u001b[39m\u001b[38;5;124m'\u001b[39m, weightedSum) \n\u001b[0;32m      9\u001b[0m cv2\u001b[38;5;241m.\u001b[39mwaitKey(\u001b[38;5;241m0\u001b[39m)\n",
      "\u001b[1;31merror\u001b[0m: OpenCV(4.10.0) D:\\a\\opencv-python\\opencv-python\\opencv\\modules\\core\\src\\arithm.cpp:661: error: (-209:Sizes of input arguments do not match) The operation is neither 'array op array' (where arrays have the same size and the same number of channels), nor 'array op scalar', nor 'scalar op array' in function 'cv::arithm_op'\n"
     ]
    }
   ],
   "source": [
    "import  cv2 \n",
    "first_img = cv2.imread(\"D://SJC//Image Processing//images//iamge1.jpg\") \n",
    "second_img = cv2.imread(\"D://SJC//Image Processing//images//image2.jpg\") \n",
    "\n",
    "\n",
    "weightedSum=cv2.add(first_img , second_img)\n",
    "cv2.imshow('Weighted Image', weightedSum) \n",
    "\n",
    "cv2.waitKey(0)\n",
    "cv2.destroyAllWindows()"
   ]
  },
  {
   "cell_type": "code",
   "execution_count": 1,
   "id": "c5742d61-2f2a-41da-843a-40d398b563a7",
   "metadata": {},
   "outputs": [],
   "source": [
    "# Imports PIL module\n",
    "from PIL import Image\n",
    "\n",
    "# open method used to open different extension image file\n",
    "im = Image.open(r\"D://SJC//Image Processing//images//iamge1.jpg\")\n",
    "\n",
    "# This method will show image in any image viewer\n",
    "im.show()"
   ]
  },
  {
   "cell_type": "code",
   "execution_count": 22,
   "id": "84323b6d-e5c9-4813-912c-5dc7128ef8cb",
   "metadata": {},
   "outputs": [],
   "source": [
    "from PIL import Image\n",
    "image=Image.open(r'D://SJC//Image Processing//images//image2.jpg')\n",
    "resized_img=image.resize((700,500))\n",
    "\n",
    "resized_img.save('D://SJC//Image Processing//images//resized_img.jpg')"
   ]
  },
  {
   "cell_type": "code",
   "execution_count": null,
   "id": "b49c62a3-bb2f-485d-89ed-853138cea10c",
   "metadata": {},
   "outputs": [],
   "source": []
  },
  {
   "cell_type": "code",
   "execution_count": null,
   "id": "183bc5ef-40b1-4554-a309-214c13cd0f51",
   "metadata": {},
   "outputs": [],
   "source": []
  }
 ],
 "metadata": {
  "kernelspec": {
   "display_name": "Python [conda env:base] *",
   "language": "python",
   "name": "conda-base-py"
  },
  "language_info": {
   "codemirror_mode": {
    "name": "ipython",
    "version": 3
   },
   "file_extension": ".py",
   "mimetype": "text/x-python",
   "name": "python",
   "nbconvert_exporter": "python",
   "pygments_lexer": "ipython3",
   "version": "3.12.7"
  }
 },
 "nbformat": 4,
 "nbformat_minor": 5
}
