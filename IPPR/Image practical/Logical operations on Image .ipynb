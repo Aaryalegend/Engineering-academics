{
 "cells": [
  {
   "cell_type": "code",
   "execution_count": 17,
   "id": "13d9e071-1b0e-4ff6-9967-60e32db35935",
   "metadata": {},
   "outputs": [],
   "source": [
    "AND Operation\n",
    "The AND operation can be used to combine two images where both images have non-zero pixels."
   ]
  },
  {
   "cell_type": "code",
   "execution_count": 1,
   "id": "760a1bb6-bbf8-4e29-a0c9-e42ad6b76400",
   "metadata": {},
   "outputs": [],
   "source": [
    "\n",
    "import cv2\n",
    "import numpy as np\n",
    "\n",
    "# Load two images\n",
    "image1 = cv2.imread('D://SJC//Image Processing//images//image1.jpg')\n",
    "image2 = cv2.imread('D://SJC//Image Processing//images//image2.jpg')\n",
    "\n",
    "# Ensure both images are of the same size\n",
    "image1 = cv2.resize(image1, (image2.shape[1], image2.shape[0]))\n",
    "\n",
    "# Perform AND operation\n",
    "and_image = cv2.bitwise_and(image1, image2)\n",
    "\n",
    "# Display the result\n",
    "cv2.imshow('AND Operation', and_image)\n",
    "cv2.waitKey(0)\n",
    "cv2.destroyAllWindows()"
   ]
  },
  {
   "cell_type": "code",
   "execution_count": null,
   "id": "fea23cbd-8bed-405a-8879-007e8c769355",
   "metadata": {},
   "outputs": [],
   "source": [
    "2. OR Operation\n",
    "The OR operation can be used to combine two images where either of the images has non-zero pixels."
   ]
  },
  {
   "cell_type": "code",
   "execution_count": 3,
   "id": "f2b3a8ca-ccae-4a7d-9de6-4c2cbb7e3eaa",
   "metadata": {},
   "outputs": [],
   "source": [
    "import cv2\n",
    "import numpy as np\n",
    "\n",
    "# Load two images\n",
    "image1 = cv2.imread('D://SJC//Image Processing//images//image1.jpg')\n",
    "image2 = cv2.imread('D://SJC//Image Processing//images//image2.jpg')\n",
    "\n",
    "\n",
    "# Ensure both images are of the same size\n",
    "image1 = cv2.resize(image1, (image2.shape[1], image2.shape[0]))\n",
    "\n",
    "# Perform OR operation\n",
    "or_image = cv2.bitwise_or(image1, image2)\n",
    "\n",
    "# Display the result\n",
    "cv2.imshow('OR Operation', or_image)\n",
    "cv2.waitKey(0)\n",
    "cv2.destroyAllWindows()"
   ]
  },
  {
   "cell_type": "code",
   "execution_count": null,
   "id": "6a6d75bc-4ea9-403d-ab09-247197a70ce7",
   "metadata": {},
   "outputs": [],
   "source": [
    "XOR Operation\n",
    "The XOR operation can be used to combine two images where the pixels are different."
   ]
  },
  {
   "cell_type": "code",
   "execution_count": 24,
   "id": "b5a26450-d85a-4274-8d14-1b668376351d",
   "metadata": {},
   "outputs": [],
   "source": [
    "import cv2\n",
    "import numpy as np\n",
    "\n",
    "# Load two images\n",
    "image1 = cv2.imread('D://SJC//Image Processing//images//image1.jpg')\n",
    "image2 = cv2.imread('D://SJC//Image Processing//images//image2.jpg')\n",
    "# Ensure both images are of the same size\n",
    "image1 = cv2.resize(image1, (image2.shape[1], image2.shape[0]))\n",
    "\n",
    "# Perform XOR operation\n",
    "xor_image = cv2.bitwise_xor(image1, image2)\n",
    "\n",
    "# Display the result\n",
    "cv2.imshow('XOR Operation', xor_image)\n",
    "cv2.waitKey(0)\n",
    "cv2.destroyAllWindows()"
   ]
  },
  {
   "cell_type": "code",
   "execution_count": null,
   "id": "dc5cecfe-90b2-4344-bbff-f798c8596911",
   "metadata": {},
   "outputs": [],
   "source": [
    "4. NOT Operation\n",
    "The NOT operation can be used to invert the pixels of an image."
   ]
  },
  {
   "cell_type": "code",
   "execution_count": null,
   "id": "d468d1f4-d54c-45f9-9042-f3b53d63e75b",
   "metadata": {},
   "outputs": [],
   "source": []
  },
  {
   "cell_type": "code",
   "execution_count": 5,
   "id": "9a598dad-b3f9-45f2-9360-62d3555f748a",
   "metadata": {},
   "outputs": [],
   "source": [
    "import cv2\n",
    "import numpy as np\n",
    "\n",
    "# Load an image\n",
    "image = cv2.imread('D://SJC//Image Processing//images//image1.jpg')\n",
    "\n",
    "# Perform NOT operation\n",
    "not_image = cv2.bitwise_not(image)\n",
    "\n",
    "# Display the result\n",
    "cv2.imshow('NOT Operation', not_image)\n",
    "cv2.waitKey(0)\n",
    "cv2.destroyAllWindows()"
   ]
  },
  {
   "cell_type": "code",
   "execution_count": null,
   "id": "516574e2-2d73-4614-ac1e-c44b9d994b02",
   "metadata": {},
   "outputs": [],
   "source": []
  },
  {
   "cell_type": "code",
   "execution_count": null,
   "id": "1e22bb72-d126-4371-8948-bb142caf8413",
   "metadata": {},
   "outputs": [],
   "source": []
  }
 ],
 "metadata": {
  "kernelspec": {
   "display_name": "Python [conda env:base] *",
   "language": "python",
   "name": "conda-base-py"
  },
  "language_info": {
   "codemirror_mode": {
    "name": "ipython",
    "version": 3
   },
   "file_extension": ".py",
   "mimetype": "text/x-python",
   "name": "python",
   "nbconvert_exporter": "python",
   "pygments_lexer": "ipython3",
   "version": "3.12.7"
  }
 },
 "nbformat": 4,
 "nbformat_minor": 5
}
