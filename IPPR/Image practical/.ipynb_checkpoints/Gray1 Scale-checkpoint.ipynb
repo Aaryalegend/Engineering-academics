{
 "cells": [
  {
   "cell_type": "code",
   "execution_count": 1,
   "id": "f5c0779f-ef61-4d7e-98fc-f23bd174993e",
   "metadata": {},
   "outputs": [
    {
     "ename": "error",
     "evalue": "OpenCV(4.11.0) D:\\a\\opencv-python\\opencv-python\\opencv\\modules\\highgui\\src\\window.cpp:973: error: (-215:Assertion failed) size.width>0 && size.height>0 in function 'cv::imshow'\n",
     "output_type": "error",
     "traceback": [
      "\u001b[1;31m---------------------------------------------------------------------------\u001b[0m",
      "\u001b[1;31merror\u001b[0m                                     Traceback (most recent call last)",
      "Cell \u001b[1;32mIn[1], line 6\u001b[0m\n\u001b[0;32m      4\u001b[0m \u001b[38;5;66;03m# Load the input image\u001b[39;00m\n\u001b[0;32m      5\u001b[0m image \u001b[38;5;241m=\u001b[39m cv2\u001b[38;5;241m.\u001b[39mimread(\u001b[38;5;124m'\u001b[39m\u001b[38;5;124mD://SJC//Image Processing//tomato.jpg\u001b[39m\u001b[38;5;124m'\u001b[39m)\n\u001b[1;32m----> 6\u001b[0m cv2\u001b[38;5;241m.\u001b[39mimshow(\u001b[38;5;124m'\u001b[39m\u001b[38;5;124mOriginal\u001b[39m\u001b[38;5;124m'\u001b[39m, image)\n\u001b[0;32m      7\u001b[0m cv2\u001b[38;5;241m.\u001b[39mwaitKey(\u001b[38;5;241m0\u001b[39m)\n\u001b[0;32m      8\u001b[0m plt\u001b[38;5;241m.\u001b[39msubplot(\u001b[38;5;241m1\u001b[39m, \u001b[38;5;241m2\u001b[39m, \u001b[38;5;241m1\u001b[39m) \n",
      "\u001b[1;31merror\u001b[0m: OpenCV(4.11.0) D:\\a\\opencv-python\\opencv-python\\opencv\\modules\\highgui\\src\\window.cpp:973: error: (-215:Assertion failed) size.width>0 && size.height>0 in function 'cv::imshow'\n"
     ]
    }
   ],
   "source": [
    "# import opencv\n",
    "import cv2\n",
    "import matplotlib.pyplot as plt \n",
    "# Load the input image\n",
    "image = cv2.imread('D://SJC//Image Processing//tomato.jpg')\n",
    "cv2.imshow('Original', image)\n",
    "cv2.waitKey(0)\n",
    "plt.subplot(1, 2, 1) \n",
    "#plt.title(\"Original\") \n",
    "plt.imshow(image) \n",
    "\n",
    "# Use the cvtColor() function to grayscale the image\n",
    "gray_image = cv2.cvtColor(image, cv2.COLOR_BGR2GRAY)\n",
    "\n",
    "#cv2.imshow('Grayscale', gray_image)\n",
    "cv2.waitKey(0)  \n",
    "plt.subplot(1, 2, 2) \n",
    "plt.title(\"Gray scale\") \n",
    "plt.imshow(gray_image)\n",
    "# Window shown waits for any key pressing event\n",
    "cv2.destroyAllWindows()"
   ]
  },
  {
   "cell_type": "code",
   "execution_count": 3,
   "id": "1d40e2a6-38aa-4c2e-8e0a-2752e9d818c5",
   "metadata": {},
   "outputs": [
    {
     "name": "stdout",
     "output_type": "stream",
     "text": [
      "Requirement already satisfied: opencv-python in c:\\users\\lenovo\\anaconda3\\lib\\site-packages (4.11.0.86)\n",
      "Requirement already satisfied: numpy>=1.21.2 in c:\\users\\lenovo\\anaconda3\\lib\\site-packages (from opencv-python) (1.26.4)\n",
      "Note: you may need to restart the kernel to use updated packages.\n"
     ]
    }
   ],
   "source": [
    "pip install opencv-python"
   ]
  },
  {
   "cell_type": "code",
   "execution_count": null,
   "id": "4da14986-09d0-4f0c-af5d-1cc86ca5f0d7",
   "metadata": {},
   "outputs": [],
   "source": []
  },
  {
   "cell_type": "code",
   "execution_count": null,
   "id": "1fdc1046-7673-4a8a-8edb-b077e8ba5db2",
   "metadata": {},
   "outputs": [],
   "source": []
  },
  {
   "cell_type": "code",
   "execution_count": 3,
   "id": "f970c151-e99a-41dc-b929-e4e3d18e665c",
   "metadata": {},
   "outputs": [
    {
     "ename": "error",
     "evalue": "OpenCV(4.11.0) D:\\a\\opencv-python\\opencv-python\\opencv\\modules\\imgproc\\src\\color.cpp:199: error: (-215:Assertion failed) !_src.empty() in function 'cv::cvtColor'\n",
     "output_type": "error",
     "traceback": [
      "\u001b[1;31m---------------------------------------------------------------------------\u001b[0m",
      "\u001b[1;31merror\u001b[0m                                     Traceback (most recent call last)",
      "Cell \u001b[1;32mIn[3], line 8\u001b[0m\n\u001b[0;32m      6\u001b[0m \u001b[38;5;66;03m# Step 1: Load the image in grayscale\u001b[39;00m\n\u001b[0;32m      7\u001b[0m img1 \u001b[38;5;241m=\u001b[39m cv2\u001b[38;5;241m.\u001b[39mimread(\u001b[38;5;124m'\u001b[39m\u001b[38;5;124mD://SJC//Image Processing//tomato.jpg\u001b[39m\u001b[38;5;124m'\u001b[39m)  \u001b[38;5;66;03m# Ensure the image is in grayscale\u001b[39;00m\n\u001b[1;32m----> 8\u001b[0m img\u001b[38;5;241m=\u001b[39m cv2\u001b[38;5;241m.\u001b[39mcvtColor(img1, cv2\u001b[38;5;241m.\u001b[39mCOLOR_BGR2GRAY)\n\u001b[0;32m     10\u001b[0m \u001b[38;5;66;03m# Step 2: Calculate the histogram of the original image\u001b[39;00m\n\u001b[0;32m     11\u001b[0m original_histogram \u001b[38;5;241m=\u001b[39m cv2\u001b[38;5;241m.\u001b[39mcalcHist([img], [\u001b[38;5;241m0\u001b[39m], \u001b[38;5;28;01mNone\u001b[39;00m, [\u001b[38;5;241m256\u001b[39m], [\u001b[38;5;241m0\u001b[39m, \u001b[38;5;241m256\u001b[39m])\n",
      "\u001b[1;31merror\u001b[0m: OpenCV(4.11.0) D:\\a\\opencv-python\\opencv-python\\opencv\\modules\\imgproc\\src\\color.cpp:199: error: (-215:Assertion failed) !_src.empty() in function 'cv::cvtColor'\n"
     ]
    }
   ],
   "source": [
    "import cv2\n",
    "import numpy as np\n",
    "import matplotlib.pyplot as plt\n",
    "\n",
    "\n",
    "# Step 1: Load the image in grayscale\n",
    "img1 = cv2.imread('D://SJC//Image Processing//tomato.jpg')  # Ensure the image is in grayscale\n",
    "img= cv2.cvtColor(img1, cv2.COLOR_BGR2GRAY)\n",
    "\n",
    "# Step 2: Calculate the histogram of the original image\n",
    "original_histogram = cv2.calcHist([img], [0], None, [256], [0, 256])\n",
    "\n",
    "# Step 3: Apply Histogram Equalization\n",
    "equalized_img = cv2.equalizeHist(img)\n",
    "\n",
    "# Step 4: Calculate the histogram of the equalized image\n",
    "equalized_histogram = cv2.calcHist([equalized_img], [0], None, [256], [0, 256])\n",
    "\n",
    "# Step 5: Plot the original and equalized images along with their histograms\n",
    "plt.figure(figsize=(10, 6))\n",
    "\n",
    "# Original Image and its Histogram\n",
    "plt.subplot(2, 2, 1)\n",
    "plt.imshow(img, cmap='gray')\n",
    "plt.title(\"Original Image\")\n",
    "plt.axis('off')\n",
    "\n",
    "plt.subplot(2, 2, 2)\n",
    "plt.plot(original_histogram)\n",
    "plt.title(\"Original Histogram\")\n",
    "\n",
    "# Equalized Image and its Histogram\n",
    "plt.subplot(2, 2, 3)\n",
    "plt.imshow(equalized_img, cmap='gray')\n",
    "plt.title(\"Equalized Image\")\n",
    "plt.axis('off')\n",
    "\n",
    "plt.subplot(2, 2, 4)\n",
    "plt.plot(equalized_histogram)\n",
    "plt.title(\"Equalized Histogram\")\n",
    "\n",
    "# Show the plots\n",
    "plt.tight_layout()\n",
    "plt.show()\n"
   ]
  },
  {
   "cell_type": "code",
   "execution_count": null,
   "id": "55158082-005a-434e-9957-a88e21d32e3e",
   "metadata": {},
   "outputs": [],
   "source": []
  }
 ],
 "metadata": {
  "kernelspec": {
   "display_name": "Python [conda env:base] *",
   "language": "python",
   "name": "conda-base-py"
  },
  "language_info": {
   "codemirror_mode": {
    "name": "ipython",
    "version": 3
   },
   "file_extension": ".py",
   "mimetype": "text/x-python",
   "name": "python",
   "nbconvert_exporter": "python",
   "pygments_lexer": "ipython3",
   "version": "3.12.7"
  }
 },
 "nbformat": 4,
 "nbformat_minor": 5
}
