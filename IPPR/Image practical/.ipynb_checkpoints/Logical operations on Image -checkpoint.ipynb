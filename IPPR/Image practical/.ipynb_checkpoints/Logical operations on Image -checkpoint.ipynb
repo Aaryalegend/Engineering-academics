{
 "cells": [
  {
   "cell_type": "code",
   "execution_count": null,
   "id": "13d9e071-1b0e-4ff6-9967-60e32db35935",
   "metadata": {},
   "outputs": [],
   "source": [
    "import cv2\n",
    "import numpy as np\n",
    "import matplotlib.pyplot as plt\n",
    "\n",
    "image1 = cv2.imread('D://SJC//Image Processing//images//image1.png', cv2.IMREAD_GRAYSCALE)\n",
    "image2 = cv2.imread('D://SJC//Image Processing//images//image2.png', cv2.IMREAD_GRAYSCALE)\n",
    "\n",
    "# Adding the images\n",
    "added_image = cv2.add(image1, image2)\n",
    "# Show images\n",
    "plt.figure(figsize=(10,5))\n",
    "\n",
    "# Original Images\n",
    "plt.subplot(1, 3, 1)\n",
    "plt.imshow(image1, cmap='gray')\n",
    "plt.title('Image 1')\n",
    "\n",
    "plt.subplot(1, 3, 2)\n",
    "plt.imshow(image2, cmap='gray')\n",
    "plt.title('Image 2')\n",
    "\n",
    "# Added Image\n",
    "plt.subplot(1, 3, 3)\n",
    "plt.imshow(added_image, cmap='gray')\n",
    "plt.title('Added Image')\n",
    "\n",
    "plt.show()"
   ]
  }
 ],
 "metadata": {
  "kernelspec": {
   "display_name": "Python [conda env:base] *",
   "language": "python",
   "name": "conda-base-py"
  },
  "language_info": {
   "codemirror_mode": {
    "name": "ipython",
    "version": 3
   },
   "file_extension": ".py",
   "mimetype": "text/x-python",
   "name": "python",
   "nbconvert_exporter": "python",
   "pygments_lexer": "ipython3",
   "version": "3.12.7"
  }
 },
 "nbformat": 4,
 "nbformat_minor": 5
}
