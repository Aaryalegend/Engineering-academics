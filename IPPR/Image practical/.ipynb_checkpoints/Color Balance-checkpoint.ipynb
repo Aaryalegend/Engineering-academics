{
 "cells": [
  {
   "cell_type": "code",
   "execution_count": 3,
   "id": "a7240bb9-fd56-4aa9-b1c3-aa03f8530f1f",
   "metadata": {},
   "outputs": [],
   "source": [
    "import cv2\n",
    "import numpy as np\n",
    "# load image\n",
    "img = cv2.imread(\"D://SJC//Image Processing//images//HLNum.jpg\")\n",
    "red_factor=1.8 \n",
    "green_factor=1.1\n",
    "blue_factor=0.9\n",
    "red_channel,green_channel,blue_channel=cv2.split(img)\n",
    "#adjust intensity of each channel\n",
    "red_channel=np.clip(red_channel*red_factor,0,255).astype(np.uint8)\n",
    "green_channel=np.clip(green_channel*green_factor,0,255).astype(np.uint8)\n",
    "blue_channel=np.clip(blue_channel*blue_factor,0,255).astype(np.uint8)\n",
    "#merge color channel\n",
    "adjusted_img=cv2.merge((red_channel,green_channel,blue_channel))\n",
    "combined_img=np.hstack((img,adjusted_img))\n",
    "cv2.imshow(\"Original Vs Color image\",combined_img)\n",
    "\n",
    "cv2.waitKey(0)\n",
    "cv2.destroyAllWindows()\n",
    "\n",
    "\n"
   ]
  },
  {
   "cell_type": "code",
   "execution_count": null,
   "id": "d0f6fdba-7ea1-40ae-a261-5de5030589c2",
   "metadata": {},
   "outputs": [],
   "source": [
    "import cv2\n",
    "import numpy as np\n",
    "import matplotlib.pyplot as plt\n",
    "\n",
    "# load image\n",
    "img = cv2.imread(\"D://SJC//Image Processing//images//image1.jpg\")\n",
    "\n",
    "# convert to grayscale\n",
    "hsv_img = cv2.cvtColor(img, cv2.COLOR_BGR2HSV)\n",
    "red_channel,green_channel,blue_channel=cv2.split(img) \n",
    "merged_img=cv2.merge((blue_channel,green_channel,red_channel))\n",
    "combined_image=np.hstack((img,merged_img))\n",
    "cv2.imshow(\"Original vs swapped\",combined_image)\n",
    "cv2.waitKey(0)\n",
    "cv2.destroyAllWindows()\n"
   ]
  },
  {
   "cell_type": "code",
   "execution_count": null,
   "id": "b1cc0011-2f52-4894-9e15-c2de036c72e9",
   "metadata": {},
   "outputs": [],
   "source": []
  }
 ],
 "metadata": {
  "kernelspec": {
   "display_name": "Python [conda env:base] *",
   "language": "python",
   "name": "conda-base-py"
  },
  "language_info": {
   "codemirror_mode": {
    "name": "ipython",
    "version": 3
   },
   "file_extension": ".py",
   "mimetype": "text/x-python",
   "name": "python",
   "nbconvert_exporter": "python",
   "pygments_lexer": "ipython3",
   "version": "3.12.7"
  }
 },
 "nbformat": 4,
 "nbformat_minor": 5
}
