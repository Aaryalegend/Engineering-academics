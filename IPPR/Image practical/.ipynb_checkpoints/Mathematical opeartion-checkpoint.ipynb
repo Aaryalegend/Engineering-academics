{
 "cells": [
  {
   "cell_type": "code",
   "execution_count": 5,
   "id": "61c12053-d419-4677-9324-5960621a8cc8",
   "metadata": {},
   "outputs": [],
   "source": [
    "import cv2\n",
    "import numpy as np\n",
    "\n",
    "# Load two images\n",
    "image1 = cv2.imread('D://SJC//Image Processing//images//star.jpg')\n",
    "image2 = cv2.imread('D://SJC//Image Processing//images//dot.jpg')\n",
    "\n",
    "# Ensure both images are of the same size\n",
    "#image1 = cv2.resize(image1, (image2.shape, image2.shape))\n",
    "\n",
    "# Perform addition\n",
    "added_image = cv2.add(image1, image2)\n",
    "\n",
    "# Perform subtraction\n",
    "subtracted_image = cv2.subtract(image1, image2)\n",
    "\n",
    "# Perform multiplication\n",
    "multiplied_image = cv2.multiply(image1, image2)\n",
    "\n",
    "# Perform division\n",
    "divided_image = cv2.divide(image1, image2)\n",
    "\n",
    "# Show the results\n",
    "cv2.imshow('Added Image', added_image)\n",
    "cv2.imshow('Subtracted Image', subtracted_image)\n",
    "cv2.imshow('Multiplied Image', multiplied_image)\n",
    "cv2.imshow('Divided Image', divided_image)\n",
    "\n",
    "cv2.waitKey(0)\n",
    "cv2.destroyAllWindows()"
   ]
  },
  {
   "cell_type": "code",
   "execution_count": 9,
   "id": "284e965b-6520-43d7-bd0a-b1f0a2c517dd",
   "metadata": {},
   "outputs": [
    {
     "name": "stdout",
     "output_type": "stream",
     "text": [
      "Aspect ratio: 1.408450704225352\n",
      "Channel 3\n"
     ]
    }
   ],
   "source": [
    "import cv2\t# Load the image\n",
    "img = cv2.imread('D://SJC//Image Processing//tomato.jpg')\n",
    "\t\t\t# Get the dimensions of the image\n",
    "height, width, channels = img.shape\n",
    "\t\t\t#Calculate the aspect ratio\n",
    "aspect_ratio = width / height\n",
    "\t\t\t# Display the aspect ratio\n",
    "print('Aspect ratio:', aspect_ratio)\n",
    "print('Channel',channels)\n"
   ]
  },
  {
   "cell_type": "code",
   "execution_count": 3,
   "id": "bfb8f3ab-0388-4263-837d-27100fcc2005",
   "metadata": {},
   "outputs": [
    {
     "ename": "AttributeError",
     "evalue": "module 'cv2' has no attribute 'distroyAllWindows'",
     "output_type": "error",
     "traceback": [
      "\u001b[1;31m---------------------------------------------------------------------------\u001b[0m",
      "\u001b[1;31mAttributeError\u001b[0m                            Traceback (most recent call last)",
      "Cell \u001b[1;32mIn[3], line 19\u001b[0m\n\u001b[0;32m     16\u001b[0m cv2\u001b[38;5;241m.\u001b[39mwaitKey(\u001b[38;5;241m0\u001b[39m) \n\u001b[0;32m     18\u001b[0m \u001b[38;5;66;03m# Distroy all the window open \u001b[39;00m\n\u001b[1;32m---> 19\u001b[0m cv2\u001b[38;5;241m.\u001b[39mdistroyAllWindows()\n",
      "\u001b[1;31mAttributeError\u001b[0m: module 'cv2' has no attribute 'distroyAllWindows'"
     ]
    }
   ],
   "source": [
    "import cv2 \n",
    "  \n",
    "# Read Image1 \n",
    "mountain = cv2.imread('D://SJC//Image Processing//images//image1.jpg', 1) \n",
    "  \n",
    "# Read image2 \n",
    "dog = cv2.imread('D://SJC//Image Processing//images//image2.jpg', 1) \n",
    "  \n",
    "# Add the images \n",
    "img = cv2.add(mountain,dog) \n",
    "  \n",
    "# Show the image \n",
    "cv2.imshow('Original', img)\n",
    "  \n",
    "# Wait for a key \n",
    "cv2.waitKey(0) \n",
    "  \n",
    "# Distroy all the window open \n",
    "cv2.distroyAllWindows() "
   ]
  },
  {
   "cell_type": "code",
   "execution_count": null,
   "id": "71a42aa2-93c8-43a1-b4ff-e31d63a3c680",
   "metadata": {},
   "outputs": [],
   "source": [
    "import cv2\n",
    "import numpy as np\n",
    "\n",
    "# Load images\n",
    "image1 = cv2.imread('D://SJC//Image Processing//iamges//image1.jpg')\n",
    "image2 = cv2.imread('D://SJC//Image Processing//images//image2.jpg')\n",
    "\n",
    "# Ensure both images are the same size\n",
    "image1 = cv2.resize(image1, (image2.shape[1], image2.shape[0]))\n",
    "\n",
    "# Add images together\n",
    "blended_image = cv2.addWeighted(image1, 0.5, image2, 0.5, 0)\n",
    "\n",
    "# Save the result\n",
    "cv2.imwrite('blended_image.jpg', blended_image)"
   ]
  },
  {
   "cell_type": "code",
   "execution_count": 19,
   "id": "11e1b543-6888-42b2-b632-8073cbd6a709",
   "metadata": {},
   "outputs": [
    {
     "ename": "AttributeError",
     "evalue": "'NoneType' object has no attribute 'shape'",
     "output_type": "error",
     "traceback": [
      "\u001b[1;31m---------------------------------------------------------------------------\u001b[0m",
      "\u001b[1;31mAttributeError\u001b[0m                            Traceback (most recent call last)",
      "Cell \u001b[1;32mIn[19], line 6\u001b[0m\n\u001b[0;32m      1\u001b[0m \u001b[38;5;28;01mimport\u001b[39;00m \u001b[38;5;21;01mcv2\u001b[39;00m\n\u001b[0;32m      3\u001b[0m img \u001b[38;5;241m=\u001b[39m cv2\u001b[38;5;241m.\u001b[39mimread(\u001b[38;5;124m'\u001b[39m\u001b[38;5;124mD://SJC//Image Processing//iamges//image1.jpg\u001b[39m\u001b[38;5;124m'\u001b[39m, cv2\u001b[38;5;241m.\u001b[39mIMREAD_UNCHANGED)\n\u001b[1;32m----> 6\u001b[0m height, width, channels \u001b[38;5;241m=\u001b[39m img\u001b[38;5;241m.\u001b[39mshape\n\u001b[0;32m      7\u001b[0m \u001b[38;5;28mprint\u001b[39m(\u001b[38;5;124m'\u001b[39m\u001b[38;5;124mOriginal Dimensions : \u001b[39m\u001b[38;5;124m'\u001b[39m,height, width)\n\u001b[0;32m      8\u001b[0m scale_percent \u001b[38;5;241m=\u001b[39m \u001b[38;5;241m60\u001b[39m \u001b[38;5;66;03m# percent of original size\u001b[39;00m\n",
      "\u001b[1;31mAttributeError\u001b[0m: 'NoneType' object has no attribute 'shape'"
     ]
    }
   ],
   "source": [
    "import cv2\n",
    "\n",
    "img = cv2.imread('D://SJC//Image Processing//iamges//image1.jpg', cv2.IMREAD_UNCHANGED)\n",
    "\n",
    "\n",
    "height, width, channels = img.shape\n",
    "print('Original Dimensions : ',height, width)\n",
    "scale_percent = 60 # percent of original size\n",
    "width = int(width * scale_percent / 100)\n",
    "height = int(height * scale_percent / 100)\n",
    "dim = (width, height)\n",
    " \n",
    "# resize image\n",
    "resized = cv2.resize(img, dim, interpolation = cv2.INTER_AREA)\n",
    "\n",
    "print('Resized Dimensions : ',resized.shape)\n",
    "\n",
    "cv2.imshow(\"Resized image\", resized)\n",
    "cv2.waitKey(0)\n",
    "cv2.destroyAllWindows()"
   ]
  },
  {
   "cell_type": "code",
   "execution_count": 9,
   "id": "e9cf5470-84dd-470f-b289-8cf37e911134",
   "metadata": {},
   "outputs": [],
   "source": [
    "import cv2\n",
    "import numpy as np\n",
    "\n",
    "# Load two images\n",
    "image1 = cv2.imread('D://SJC//Image Processing//images//image1.jpg')\n",
    "image2 = cv2.imread('D://SJC//Image Processing//images//image2.jpg')\n",
    "\n",
    "# Ensure both images are of the same size\n",
    "#image1 = cv2.resize(image1, (image2.shape, image2.shape))\n",
    "\n",
    "# Perform addition\n",
    "added_image = cv2.hconcat(image1, image2)\n",
    "cv2.imshow('Added Image', added_image)\n",
    "cv2.waitKey(0)\n",
    "cv2.destroyAllWindows()"
   ]
  },
  {
   "cell_type": "code",
   "execution_count": null,
   "id": "4fffa875-c2e0-4ee0-b413-370a01c4a1bf",
   "metadata": {},
   "outputs": [],
   "source": []
  }
 ],
 "metadata": {
  "kernelspec": {
   "display_name": "Python [conda env:base] *",
   "language": "python",
   "name": "conda-base-py"
  },
  "language_info": {
   "codemirror_mode": {
    "name": "ipython",
    "version": 3
   },
   "file_extension": ".py",
   "mimetype": "text/x-python",
   "name": "python",
   "nbconvert_exporter": "python",
   "pygments_lexer": "ipython3",
   "version": "3.12.7"
  }
 },
 "nbformat": 4,
 "nbformat_minor": 5
}
