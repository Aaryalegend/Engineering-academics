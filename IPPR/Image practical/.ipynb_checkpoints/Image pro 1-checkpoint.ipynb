{
 "cells": [
  {
   "cell_type": "code",
   "execution_count": null,
   "id": "d91f9d53-4664-4dff-8b95-482f7470eac6",
   "metadata": {},
   "outputs": [],
   "source": []
  },
  {
   "cell_type": "code",
   "execution_count": 3,
   "id": "74904add-35bf-4618-966f-c89631bddfc1",
   "metadata": {},
   "outputs": [
    {
     "name": "stdout",
     "output_type": "stream",
     "text": [
      "Collecting opencv-python\n",
      "  Downloading opencv_python-4.10.0.84-cp37-abi3-win_amd64.whl.metadata (20 kB)\n",
      "Requirement already satisfied: numpy>=1.21.2 in c:\\users\\it\\anaconda3\\lib\\site-packages (from opencv-python) (1.26.4)\n",
      "Downloading opencv_python-4.10.0.84-cp37-abi3-win_amd64.whl (38.8 MB)\n",
      "   ---------------------------------------- 0.0/38.8 MB ? eta -:--:--\n",
      "   ------------ --------------------------- 12.3/38.8 MB 70.1 MB/s eta 0:00:01\n",
      "   ------------------------------------- -- 36.2/38.8 MB 91.9 MB/s eta 0:00:01\n",
      "   ---------------------------------------- 38.8/38.8 MB 68.5 MB/s eta 0:00:00\n",
      "Installing collected packages: opencv-python\n",
      "Successfully installed opencv-python-4.10.0.84\n",
      "Note: you may need to restart the kernel to use updated packages.\n"
     ]
    }
   ],
   "source": [
    "pip install opencv-python"
   ]
  },
  {
   "cell_type": "code",
   "execution_count": 1,
   "id": "84ddd242-c338-4433-bcc2-c3ef46979a76",
   "metadata": {},
   "outputs": [],
   "source": [
    "import  cv2 \n",
    "\n",
    "# matplotlib can be used to plot the images as subplot \n",
    "  \n",
    "first_img = cv2.imread(\"D://SJC//Image Processing//images//iamge1.jpg\") \n",
    "second_img = cv2.imread(\"D://SJC//Image Processing//images//image2.jpg\") \n",
    "  \n",
    "#print(first_img) \n",
    "#print(second_img)\n",
    "#cv2.imshow('first_img',first_img)\n",
    "#cv2.waitKey(2)\n",
    "#cv2.imshow('second_img',first_img)\n",
    "#cv2.waitKey(2)\n",
    "\n",
    "weightedSum = cv2.addWeighted(first_img, 0.5, second_img, 0.4, 0)\n",
    "cv2.imshow('Weighted Image', weightedSum) \n",
    "  \n",
    "# De-allocate any associated memory usage   \n",
    "#if cv2.waitKey(0) & 0xff == 27:  \n",
    "#    cv2.destroyAllWindows()\n",
    "cv2.imshow('first_img',first_img)\n",
    "cv2.imshow('second_img',second_img)\n",
    "cv2.waitKey(0)\n",
    "cv2.destroyAllWindows()"
   ]
  },
  {
   "cell_type": "code",
   "execution_count": 11,
   "id": "2ea9ca22-8f3f-483f-b437-686b5a53d0c1",
   "metadata": {},
   "outputs": [
    {
     "data": {
      "text/plain": [
       "-1"
      ]
     },
     "execution_count": 11,
     "metadata": {},
     "output_type": "execute_result"
    }
   ],
   "source": [
    "cv2.imshow(\"first_img\", first_img) \n",
    "cv2.waitKey(0)"
   ]
  },
  {
   "cell_type": "code",
   "execution_count": 2,
   "id": "64ebcf57-d240-4e57-8fc8-4c3dcb2b023e",
   "metadata": {},
   "outputs": [
    {
     "data": {
      "text/plain": [
       "-1"
      ]
     },
     "execution_count": 2,
     "metadata": {},
     "output_type": "execute_result"
    }
   ],
   "source": []
  },
  {
   "cell_type": "code",
   "execution_count": 4,
   "id": "1cbc8024-aeae-4464-ad6a-4c97057c0393",
   "metadata": {},
   "outputs": [],
   "source": [
    "import  cv2 \n",
    "first_img = cv2.imread(\"D://SJC//Image Processing//images//iamge1.jpg\") \n",
    "second_img = cv2.imread(\"D://SJC//Image Processing//images//image2.jpg\") \n",
    "\n",
    "\n",
    "weightedSum=cv2.add(first_img , second_img)\n",
    "cv2.imshow('Weighted Image', weightedSum) \n",
    "\n",
    "cv2.waitKey(0)\n",
    "cv2.destroyAllWindows()"
   ]
  },
  {
   "cell_type": "code",
   "execution_count": 1,
   "id": "c5742d61-2f2a-41da-843a-40d398b563a7",
   "metadata": {},
   "outputs": [],
   "source": [
    "# Imports PIL module\n",
    "from PIL import Image\n",
    "\n",
    "# open method used to open different extension image file\n",
    "im = Image.open(r\"D://SJC//Image Processing//images//iamge1.jpg\")\n",
    "\n",
    "# This method will show image in any image viewer\n",
    "im.show()"
   ]
  },
  {
   "cell_type": "code",
   "execution_count": null,
   "id": "84323b6d-e5c9-4813-912c-5dc7128ef8cb",
   "metadata": {},
   "outputs": [],
   "source": []
  }
 ],
 "metadata": {
  "kernelspec": {
   "display_name": "Python [conda env:base] *",
   "language": "python",
   "name": "conda-base-py"
  },
  "language_info": {
   "codemirror_mode": {
    "name": "ipython",
    "version": 3
   },
   "file_extension": ".py",
   "mimetype": "text/x-python",
   "name": "python",
   "nbconvert_exporter": "python",
   "pygments_lexer": "ipython3",
   "version": "3.12.7"
  }
 },
 "nbformat": 4,
 "nbformat_minor": 5
}
