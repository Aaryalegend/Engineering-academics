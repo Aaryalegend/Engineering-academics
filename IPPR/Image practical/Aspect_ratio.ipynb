{
 "cells": [
  {
   "cell_type": "code",
   "execution_count": 4,
   "id": "5cdc05f6-07d7-4c4e-a0c9-f2f4d35cf19d",
   "metadata": {},
   "outputs": [
    {
     "name": "stdout",
     "output_type": "stream",
     "text": [
      "Aspect ratio: 2.0\n"
     ]
    }
   ],
   "source": [
    "import cv2\n",
    "# Load the image\n",
    "img = cv2.imread('D://SJC//Image Processing//images//image1.jpg')\n",
    "# Get the dimensions of the image\n",
    "height, width, channels = img.shape\n",
    "# Calculate the aspect ratio\n",
    "aspect_ratio = width / height\n",
    "# Display the aspect ratio\n",
    "print('Aspect ratio:', aspect_ratio)"
   ]
  },
  {
   "cell_type": "code",
   "execution_count": 1,
   "id": "996d8380-4e64-4607-8ddf-f2596c8ba758",
   "metadata": {},
   "outputs": [
    {
     "name": "stdout",
     "output_type": "stream",
     "text": [
      "Requirement already satisfied: opencv-python in c:\\users\\it\\anaconda3\\lib\\site-packages (4.10.0.84)\n",
      "Requirement already satisfied: numpy>=1.21.2 in c:\\users\\it\\anaconda3\\lib\\site-packages (from opencv-python) (1.26.4)\n",
      "Note: you may need to restart the kernel to use updated packages.\n"
     ]
    }
   ],
   "source": [
    "pip install opencv-python"
   ]
  },
  {
   "cell_type": "code",
   "execution_count": null,
   "id": "0ee18948-c868-4f15-a0a2-4c763a284932",
   "metadata": {},
   "outputs": [],
   "source": []
  }
 ],
 "metadata": {
  "kernelspec": {
   "display_name": "Python [conda env:base] *",
   "language": "python",
   "name": "conda-base-py"
  },
  "language_info": {
   "codemirror_mode": {
    "name": "ipython",
    "version": 3
   },
   "file_extension": ".py",
   "mimetype": "text/x-python",
   "name": "python",
   "nbconvert_exporter": "python",
   "pygments_lexer": "ipython3",
   "version": "3.12.7"
  }
 },
 "nbformat": 4,
 "nbformat_minor": 5
}
