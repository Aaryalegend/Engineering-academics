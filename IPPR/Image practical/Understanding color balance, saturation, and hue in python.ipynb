{
 "cells": [
  {
   "cell_type": "code",
   "execution_count": 11,
   "id": "668abdb6-474d-498a-8f61-b370fb724f1c",
   "metadata": {},
   "outputs": [
    {
     "data": {
      "text/plain": [
       "-1"
      ]
     },
     "execution_count": 11,
     "metadata": {},
     "output_type": "execute_result"
    }
   ],
   "source": [
    "import cv2\n",
    "import matplotlib.pyplot as plt \n",
    "# Load image\n",
    "img = cv2.imread('D://SJC//Image Processing//images//image1.jpg')\n",
    "\n",
    "# Convert to LAB color space\n",
    "lab = cv2.cvtColor(img, cv2.COLOR_BGR2LAB)\n",
    "# Adjust color balance\n",
    "l, a, b = cv2.split(lab)\n",
    "clahe = cv2.createCLAHE(clipLimit=2.0, tileGridSize=(8,8))\n",
    "cl = clahe.apply(l)\n",
    "lab = cv2.merge((cl,a,b))\n",
    "# Convert back to BGR color space\n",
    "output = cv2.cvtColor(lab, cv2.COLOR_LAB2BGR)\n",
    "# Show result\n",
    " \n",
    "cv2.imshow('Result', output)\n",
    "cv2.waitKey(0)"
   ]
  },
  {
   "cell_type": "code",
   "execution_count": null,
   "id": "d30d9511-eb38-4b64-a2ea-bbea4cf41744",
   "metadata": {},
   "outputs": [],
   "source": [
    "\n"
   ]
  },
  {
   "cell_type": "code",
   "execution_count": null,
   "id": "79979dc6-0ec8-42a9-9cbb-866e1fd858c3",
   "metadata": {},
   "outputs": [],
   "source": []
  }
 ],
 "metadata": {
  "kernelspec": {
   "display_name": "Python [conda env:base] *",
   "language": "python",
   "name": "conda-base-py"
  },
  "language_info": {
   "codemirror_mode": {
    "name": "ipython",
    "version": 3
   },
   "file_extension": ".py",
   "mimetype": "text/x-python",
   "name": "python",
   "nbconvert_exporter": "python",
   "pygments_lexer": "ipython3",
   "version": "3.12.7"
  }
 },
 "nbformat": 4,
 "nbformat_minor": 5
}
